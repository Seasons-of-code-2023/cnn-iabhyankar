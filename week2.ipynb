{
 "cells": [
  {
   "attachments": {},
   "cell_type": "markdown",
   "metadata": {},
   "source": [
    "Task 1"
   ]
  },
  {
   "cell_type": "code",
   "execution_count": 13,
   "metadata": {},
   "outputs": [],
   "source": [
    "import numpy as np\n",
    "from keras.datasets import mnist\n",
    "from keras.models import Sequential\n",
    "from keras.layers import Conv2D, MaxPooling2D, Flatten, Dense, Dropout\n",
    "from keras.utils import to_categorical"
   ]
  },
  {
   "cell_type": "code",
   "execution_count": 2,
   "metadata": {},
   "outputs": [
    {
     "name": "stdout",
     "output_type": "stream",
     "text": [
      "Downloading data from https://storage.googleapis.com/tensorflow/tf-keras-datasets/mnist.npz\n",
      "11490434/11490434 [==============================] - 1s 0us/step\n"
     ]
    }
   ],
   "source": [
    "(X_train, y_train), (X_test, y_test) = mnist.load_data()"
   ]
  },
  {
   "cell_type": "code",
   "execution_count": 3,
   "metadata": {},
   "outputs": [],
   "source": [
    "X_train = X_train.reshape(-1, 28, 28, 1).astype('float32') / 255.0\n",
    "X_test = X_test.reshape(-1, 28, 28, 1).astype('float32') / 255.0\n",
    "y_train = to_categorical(y_train)\n",
    "y_test = to_categorical(y_test)"
   ]
  },
  {
   "cell_type": "code",
   "execution_count": 4,
   "metadata": {},
   "outputs": [],
   "source": [
    "model = Sequential()\n",
    "model.add(Conv2D(32, (3, 3), activation='relu', input_shape=(28, 28, 1)))\n",
    "model.add(MaxPooling2D((2, 2)))\n",
    "model.add(Conv2D(64, (3, 3), activation='relu'))\n",
    "model.add(MaxPooling2D((2, 2)))\n",
    "model.add(Conv2D(64, (3, 3), activation='relu'))\n",
    "model.add(Flatten())\n",
    "model.add(Dense(64, activation='relu'))\n",
    "model.add(Dense(10, activation='softmax'))"
   ]
  },
  {
   "cell_type": "code",
   "execution_count": 5,
   "metadata": {},
   "outputs": [
    {
     "name": "stdout",
     "output_type": "stream",
     "text": [
      "Epoch 1/10\n",
      "469/469 [==============================] - 15s 30ms/step - loss: 0.2478 - accuracy: 0.9252 - val_loss: 0.0737 - val_accuracy: 0.9764\n",
      "Epoch 2/10\n",
      "469/469 [==============================] - 15s 31ms/step - loss: 0.0630 - accuracy: 0.9812 - val_loss: 0.0415 - val_accuracy: 0.9858\n",
      "Epoch 3/10\n",
      "469/469 [==============================] - 15s 31ms/step - loss: 0.0438 - accuracy: 0.9869 - val_loss: 0.0445 - val_accuracy: 0.9851\n",
      "Epoch 4/10\n",
      "469/469 [==============================] - 15s 33ms/step - loss: 0.0332 - accuracy: 0.9900 - val_loss: 0.0382 - val_accuracy: 0.9877\n",
      "Epoch 5/10\n",
      "469/469 [==============================] - 16s 33ms/step - loss: 0.0282 - accuracy: 0.9907 - val_loss: 0.0267 - val_accuracy: 0.9910\n",
      "Epoch 6/10\n",
      "469/469 [==============================] - 15s 33ms/step - loss: 0.0239 - accuracy: 0.9928 - val_loss: 0.0433 - val_accuracy: 0.9845\n",
      "Epoch 7/10\n",
      "469/469 [==============================] - 16s 34ms/step - loss: 0.0200 - accuracy: 0.9935 - val_loss: 0.0318 - val_accuracy: 0.9899\n",
      "Epoch 8/10\n",
      "469/469 [==============================] - 16s 33ms/step - loss: 0.0174 - accuracy: 0.9942 - val_loss: 0.0274 - val_accuracy: 0.9913\n",
      "Epoch 9/10\n",
      "469/469 [==============================] - 16s 34ms/step - loss: 0.0138 - accuracy: 0.9958 - val_loss: 0.0317 - val_accuracy: 0.9901\n",
      "Epoch 10/10\n",
      "469/469 [==============================] - 16s 34ms/step - loss: 0.0128 - accuracy: 0.9959 - val_loss: 0.0312 - val_accuracy: 0.9908\n"
     ]
    },
    {
     "data": {
      "text/plain": [
       "<keras.callbacks.History at 0x1b181369000>"
      ]
     },
     "execution_count": 5,
     "metadata": {},
     "output_type": "execute_result"
    }
   ],
   "source": [
    "model.compile(optimizer='adam', loss='categorical_crossentropy', metrics=['accuracy'])\n",
    "model.fit(X_train, y_train, batch_size=128, epochs=10, validation_data=(X_test, y_test))"
   ]
  },
  {
   "cell_type": "code",
   "execution_count": 6,
   "metadata": {},
   "outputs": [
    {
     "name": "stdout",
     "output_type": "stream",
     "text": [
      "313/313 [==============================] - 1s 3ms/step - loss: 0.0312 - accuracy: 0.9908\n",
      "Test loss: 0.0312\n",
      "Test accuracy: 0.9908\n"
     ]
    }
   ],
   "source": [
    "loss, accuracy = model.evaluate(X_test, y_test)\n",
    "print(f'Test loss: {loss:.4f}')\n",
    "print(f'Test accuracy: {accuracy:.4f}')"
   ]
  },
  {
   "cell_type": "code",
   "execution_count": 8,
   "metadata": {},
   "outputs": [],
   "source": [
    "model.save('digit_classifier.h5')"
   ]
  },
  {
   "attachments": {},
   "cell_type": "markdown",
   "metadata": {},
   "source": [
    "Task 2"
   ]
  },
  {
   "cell_type": "code",
   "execution_count": 9,
   "metadata": {},
   "outputs": [],
   "source": [
    "from keras.datasets import cifar10"
   ]
  },
  {
   "cell_type": "code",
   "execution_count": 10,
   "metadata": {},
   "outputs": [
    {
     "name": "stdout",
     "output_type": "stream",
     "text": [
      "Downloading data from https://www.cs.toronto.edu/~kriz/cifar-10-python.tar.gz\n",
      "170498071/170498071 [==============================] - 19s 0us/step\n"
     ]
    }
   ],
   "source": [
    "(X_train, y_train), (X_test, y_test) = cifar10.load_data()"
   ]
  },
  {
   "cell_type": "code",
   "execution_count": 11,
   "metadata": {},
   "outputs": [],
   "source": [
    "X_train = X_train.astype('float32') / 255.0\n",
    "X_test = X_test.astype('float32') / 255.0\n",
    "y_train = to_categorical(y_train)\n",
    "y_test = to_categorical(y_test)"
   ]
  },
  {
   "cell_type": "code",
   "execution_count": 14,
   "metadata": {},
   "outputs": [],
   "source": [
    "model1 = Sequential()\n",
    "model1.add(Conv2D(32, (3, 3), activation='relu', padding='same', input_shape=(32, 32, 3)))\n",
    "model1.add(Conv2D(32, (3, 3), activation='relu'))\n",
    "model1.add(MaxPooling2D(pool_size=(2, 2)))\n",
    "model1.add(Dropout(0.25))\n",
    "\n",
    "model1.add(Conv2D(64, (3, 3), activation='relu', padding='same'))\n",
    "model1.add(Conv2D(64, (3, 3), activation='relu'))\n",
    "model1.add(MaxPooling2D(pool_size=(2, 2)))\n",
    "model1.add(Dropout(0.25))\n",
    "\n",
    "model1.add(Flatten())\n",
    "model1.add(Dense(512, activation='relu'))\n",
    "model1.add(Dropout(0.5))\n",
    "model1.add(Dense(10, activation='softmax'))"
   ]
  },
  {
   "cell_type": "code",
   "execution_count": 15,
   "metadata": {},
   "outputs": [
    {
     "name": "stdout",
     "output_type": "stream",
     "text": [
      "Epoch 1/20\n",
      "391/391 [==============================] - 54s 137ms/step - loss: 1.6199 - accuracy: 0.4055 - val_loss: 1.2793 - val_accuracy: 0.5486\n",
      "Epoch 2/20\n",
      "391/391 [==============================] - 54s 138ms/step - loss: 1.2223 - accuracy: 0.5646 - val_loss: 1.0423 - val_accuracy: 0.6293\n",
      "Epoch 3/20\n",
      "391/391 [==============================] - 56s 144ms/step - loss: 1.0518 - accuracy: 0.6276 - val_loss: 0.8949 - val_accuracy: 0.6877\n",
      "Epoch 4/20\n",
      "391/391 [==============================] - 59s 151ms/step - loss: 0.9394 - accuracy: 0.6688 - val_loss: 0.8627 - val_accuracy: 0.6969\n",
      "Epoch 5/20\n",
      "391/391 [==============================] - 58s 148ms/step - loss: 0.8605 - accuracy: 0.6973 - val_loss: 0.8212 - val_accuracy: 0.7149\n",
      "Epoch 6/20\n",
      "391/391 [==============================] - 56s 143ms/step - loss: 0.7962 - accuracy: 0.7190 - val_loss: 0.7661 - val_accuracy: 0.7335\n",
      "Epoch 7/20\n",
      "391/391 [==============================] - 56s 142ms/step - loss: 0.7470 - accuracy: 0.7384 - val_loss: 0.7008 - val_accuracy: 0.7596\n",
      "Epoch 8/20\n",
      "391/391 [==============================] - 60s 154ms/step - loss: 0.7059 - accuracy: 0.7534 - val_loss: 0.7032 - val_accuracy: 0.7573\n",
      "Epoch 9/20\n",
      "391/391 [==============================] - 62s 159ms/step - loss: 0.6646 - accuracy: 0.7667 - val_loss: 0.6884 - val_accuracy: 0.7582\n",
      "Epoch 10/20\n",
      "391/391 [==============================] - 61s 157ms/step - loss: 0.6343 - accuracy: 0.7769 - val_loss: 0.6856 - val_accuracy: 0.7622\n",
      "Epoch 11/20\n",
      "391/391 [==============================] - 59s 151ms/step - loss: 0.6047 - accuracy: 0.7872 - val_loss: 0.6505 - val_accuracy: 0.7774\n",
      "Epoch 12/20\n",
      "391/391 [==============================] - 56s 144ms/step - loss: 0.5782 - accuracy: 0.7958 - val_loss: 0.6472 - val_accuracy: 0.7793\n",
      "Epoch 13/20\n",
      "391/391 [==============================] - 54s 137ms/step - loss: 0.5591 - accuracy: 0.8032 - val_loss: 0.6470 - val_accuracy: 0.7823\n",
      "Epoch 14/20\n",
      "391/391 [==============================] - 54s 137ms/step - loss: 0.5397 - accuracy: 0.8121 - val_loss: 0.6415 - val_accuracy: 0.7844\n",
      "Epoch 15/20\n",
      "391/391 [==============================] - 54s 137ms/step - loss: 0.5128 - accuracy: 0.8187 - val_loss: 0.6369 - val_accuracy: 0.7907\n",
      "Epoch 16/20\n",
      "391/391 [==============================] - 54s 138ms/step - loss: 0.4951 - accuracy: 0.8239 - val_loss: 0.6320 - val_accuracy: 0.7816\n",
      "Epoch 17/20\n",
      "391/391 [==============================] - 58s 148ms/step - loss: 0.4866 - accuracy: 0.8277 - val_loss: 0.6320 - val_accuracy: 0.7908\n",
      "Epoch 18/20\n",
      "391/391 [==============================] - 59s 151ms/step - loss: 0.4697 - accuracy: 0.8311 - val_loss: 0.6425 - val_accuracy: 0.7878\n",
      "Epoch 19/20\n",
      "391/391 [==============================] - 58s 147ms/step - loss: 0.4583 - accuracy: 0.8383 - val_loss: 0.6333 - val_accuracy: 0.7897\n",
      "Epoch 20/20\n",
      "391/391 [==============================] - 54s 138ms/step - loss: 0.4416 - accuracy: 0.8421 - val_loss: 0.6218 - val_accuracy: 0.7939\n"
     ]
    },
    {
     "data": {
      "text/plain": [
       "<keras.callbacks.History at 0x1b181b8f460>"
      ]
     },
     "execution_count": 15,
     "metadata": {},
     "output_type": "execute_result"
    }
   ],
   "source": [
    "model1.compile(optimizer='adam', loss='categorical_crossentropy', metrics=['accuracy'])\n",
    "model1.fit(X_train, y_train, batch_size=128, epochs=20, validation_data=(X_test, y_test))"
   ]
  },
  {
   "cell_type": "code",
   "execution_count": 16,
   "metadata": {},
   "outputs": [],
   "source": [
    "model1.save('cifar_10_model.h5')"
   ]
  },
  {
   "cell_type": "code",
   "execution_count": 18,
   "metadata": {},
   "outputs": [
    {
     "name": "stdout",
     "output_type": "stream",
     "text": [
      "313/313 [==============================] - 3s 10ms/step - loss: 0.6218 - accuracy: 0.7939\n",
      "Test loss: 0.6218\n",
      "Test accuracy: 0.7939\n"
     ]
    }
   ],
   "source": [
    "loss, accuracy = model1.evaluate(X_test, y_test)\n",
    "print(f'Test loss: {loss:.4f}')\n",
    "print(f'Test accuracy: {accuracy:.4f}')"
   ]
  }
 ],
 "metadata": {
  "kernelspec": {
   "display_name": "env",
   "language": "python",
   "name": "python3"
  },
  "language_info": {
   "codemirror_mode": {
    "name": "ipython",
    "version": 3
   },
   "file_extension": ".py",
   "mimetype": "text/x-python",
   "name": "python",
   "nbconvert_exporter": "python",
   "pygments_lexer": "ipython3",
   "version": "3.10.4"
  },
  "orig_nbformat": 4
 },
 "nbformat": 4,
 "nbformat_minor": 2
}
